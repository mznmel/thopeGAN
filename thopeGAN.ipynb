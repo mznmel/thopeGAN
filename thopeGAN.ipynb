{
 "cells": [
  {
   "cell_type": "code",
   "execution_count": 1,
   "metadata": {},
   "outputs": [],
   "source": [
    "import numpy as np\n",
    "import tensorflow as tf\n",
    "import tensorflow.keras.layers as layers\n",
    "from sora import sora\n",
    "from skimage.transform import resize\n",
    "from PIL import Image"
   ]
  },
  {
   "cell_type": "markdown",
   "metadata": {},
   "source": [
    "# Load and Process the Dataset"
   ]
  },
  {
   "cell_type": "code",
   "execution_count": 2,
   "metadata": {},
   "outputs": [],
   "source": [
    "dataset = np.load(\"./thope-and-shomakh.npy\")\n",
    "processed_dataset = np.zeros((dataset.shape[0], 64, 64, 3))\n",
    "\n",
    "for i in range(dataset.shape[0]):\n",
    "    img = Image.fromarray(np.uint8(dataset[i]))\n",
    "    img = img.resize((64, 64))\n",
    "    processed_dataset[i] = np.array(img)\n",
    "\n",
    "processed_dataset = processed_dataset / 255.0"
   ]
  },
  {
   "cell_type": "markdown",
   "metadata": {},
   "source": [
    "# Building the GAN Model\n",
    "The network archetrcture and several important tricks used in building and training the model are explained in the (Introduction to GANs)[https://github.com/fchollet/deep-learning-with-python-notebooks/blob/master/8.5-introduction-to-gans.ipynb] notebook by François Chollet."
   ]
  },
  {
   "cell_type": "markdown",
   "metadata": {},
   "source": [
    "## Config"
   ]
  },
  {
   "cell_type": "code",
   "execution_count": 3,
   "metadata": {},
   "outputs": [],
   "source": [
    "latent_dim = 100\n",
    "iterations = 1000000\n",
    "batch_size = 64\n",
    "\n",
    "image_shape = processed_dataset.shape[1:]"
   ]
  },
  {
   "cell_type": "markdown",
   "metadata": {},
   "source": [
    "## Generator"
   ]
  },
  {
   "cell_type": "code",
   "execution_count": 4,
   "metadata": {
    "scrolled": false
   },
   "outputs": [
    {
     "name": "stdout",
     "output_type": "stream",
     "text": [
      "_________________________________________________________________\n",
      "Layer (type)                 Output Shape              Param #   \n",
      "=================================================================\n",
      "input_1 (InputLayer)         (None, 100)               0         \n",
      "_________________________________________________________________\n",
      "dense (Dense)                (None, 131072)            13238272  \n",
      "_________________________________________________________________\n",
      "leaky_re_lu (LeakyReLU)      (None, 131072)            0         \n",
      "_________________________________________________________________\n",
      "reshape (Reshape)            (None, 32, 32, 128)       0         \n",
      "_________________________________________________________________\n",
      "up_sampling2d (UpSampling2D) (None, 64, 64, 128)       0         \n",
      "_________________________________________________________________\n",
      "conv2d (Conv2D)              (None, 64, 64, 128)       262272    \n",
      "_________________________________________________________________\n",
      "batch_normalization (BatchNo (None, 64, 64, 128)       512       \n",
      "_________________________________________________________________\n",
      "leaky_re_lu_1 (LeakyReLU)    (None, 64, 64, 128)       0         \n",
      "_________________________________________________________________\n",
      "conv2d_1 (Conv2D)            (None, 64, 64, 64)        131136    \n",
      "_________________________________________________________________\n",
      "batch_normalization_1 (Batch (None, 64, 64, 64)        256       \n",
      "_________________________________________________________________\n",
      "leaky_re_lu_2 (LeakyReLU)    (None, 64, 64, 64)        0         \n",
      "_________________________________________________________________\n",
      "conv2d_2 (Conv2D)            (None, 64, 64, 32)        32800     \n",
      "_________________________________________________________________\n",
      "batch_normalization_2 (Batch (None, 64, 64, 32)        128       \n",
      "_________________________________________________________________\n",
      "leaky_re_lu_3 (LeakyReLU)    (None, 64, 64, 32)        0         \n",
      "_________________________________________________________________\n",
      "conv2d_3 (Conv2D)            (None, 64, 64, 3)         6147      \n",
      "_________________________________________________________________\n",
      "activation (Activation)      (None, 64, 64, 3)         0         \n",
      "=================================================================\n",
      "Total params: 13,671,523\n",
      "Trainable params: 13,671,075\n",
      "Non-trainable params: 448\n",
      "_________________________________________________________________\n"
     ]
    }
   ],
   "source": [
    "gen_input = layers.Input(shape=(latent_dim, ))\n",
    "gen = layers.Dense(32 * 32 * 128)(gen_input)\n",
    "gen = layers.LeakyReLU()(gen)\n",
    "gen = layers.Reshape((32, 32, 128))(gen)\n",
    "gen = layers.UpSampling2D()(gen)\n",
    "gen = layers.Conv2D(128, 4, padding='same')(gen)\n",
    "gen = layers.BatchNormalization(momentum=0.8)(gen)\n",
    "gen = layers.LeakyReLU()(gen)\n",
    "gen = layers.Conv2D(64, 4, padding='same')(gen)\n",
    "gen = layers.BatchNormalization(momentum=0.8)(gen)\n",
    "gen = layers.LeakyReLU()(gen)\n",
    "gen = layers.Conv2D(32, 4, padding='same')(gen)\n",
    "gen = layers.BatchNormalization(momentum=0.8)(gen)\n",
    "gen = layers.LeakyReLU()(gen)\n",
    "gen = layers.Conv2D(3, 8, padding='same')(gen)\n",
    "gen = layers.Activation('tanh')(gen)\n",
    "gen = tf.keras.Model(gen_input, gen)\n",
    "gen.summary()"
   ]
  },
  {
   "cell_type": "markdown",
   "metadata": {},
   "source": [
    "## Discriminator"
   ]
  },
  {
   "cell_type": "code",
   "execution_count": 5,
   "metadata": {},
   "outputs": [
    {
     "name": "stdout",
     "output_type": "stream",
     "text": [
      "_________________________________________________________________\n",
      "Layer (type)                 Output Shape              Param #   \n",
      "=================================================================\n",
      "input_2 (InputLayer)         (None, 64, 64, 3)         0         \n",
      "_________________________________________________________________\n",
      "conv2d_4 (Conv2D)            (None, 64, 64, 128)       3584      \n",
      "_________________________________________________________________\n",
      "leaky_re_lu_4 (LeakyReLU)    (None, 64, 64, 128)       0         \n",
      "_________________________________________________________________\n",
      "conv2d_5 (Conv2D)            (None, 32, 32, 128)       262272    \n",
      "_________________________________________________________________\n",
      "leaky_re_lu_5 (LeakyReLU)    (None, 32, 32, 128)       0         \n",
      "_________________________________________________________________\n",
      "conv2d_6 (Conv2D)            (None, 16, 16, 128)       262272    \n",
      "_________________________________________________________________\n",
      "leaky_re_lu_6 (LeakyReLU)    (None, 16, 16, 128)       0         \n",
      "_________________________________________________________________\n",
      "conv2d_7 (Conv2D)            (None, 8, 8, 128)         262272    \n",
      "_________________________________________________________________\n",
      "leaky_re_lu_7 (LeakyReLU)    (None, 8, 8, 128)         0         \n",
      "_________________________________________________________________\n",
      "flatten (Flatten)            (None, 8192)              0         \n",
      "_________________________________________________________________\n",
      "dropout (Dropout)            (None, 8192)              0         \n",
      "_________________________________________________________________\n",
      "dense_1 (Dense)              (None, 1)                 8193      \n",
      "=================================================================\n",
      "Total params: 798,593\n",
      "Trainable params: 798,593\n",
      "Non-trainable params: 0\n",
      "_________________________________________________________________\n"
     ]
    }
   ],
   "source": [
    "dis_input = layers.Input(shape=image_shape)\n",
    "dis = layers.Conv2D(128, kernel_size=3, padding='same')(dis_input)\n",
    "dis = layers.LeakyReLU()(dis)\n",
    "dis = layers.Conv2D(128, kernel_size=4, strides=2, padding='same')(dis)\n",
    "dis = layers.LeakyReLU()(dis)\n",
    "dis = layers.Conv2D(128, kernel_size=4, strides=2, padding='same')(dis)\n",
    "dis = layers.LeakyReLU()(dis)\n",
    "dis = layers.Conv2D(128, kernel_size=4, strides=2, padding='same')(dis)\n",
    "dis = layers.LeakyReLU()(dis)\n",
    "dis = layers.Flatten()(dis)\n",
    "dis = layers.Dropout(0.25)(dis)\n",
    "dis = layers.Dense(1, activation='sigmoid')(dis)\n",
    "dis = tf.keras.Model(dis_input, dis)\n",
    "dis.summary()\n",
    "\n",
    "optimizer = tf.keras.optimizers.RMSprop(lr=0.0005, clipvalue=1.0, decay=1e-8)\n",
    "dis.compile(optimizer, loss='binary_crossentropy')"
   ]
  },
  {
   "cell_type": "markdown",
   "metadata": {},
   "source": [
    "## GAN"
   ]
  },
  {
   "cell_type": "code",
   "execution_count": 6,
   "metadata": {},
   "outputs": [
    {
     "name": "stdout",
     "output_type": "stream",
     "text": [
      "_________________________________________________________________\n",
      "Layer (type)                 Output Shape              Param #   \n",
      "=================================================================\n",
      "input_3 (InputLayer)         (None, 100)               0         \n",
      "_________________________________________________________________\n",
      "model (Model)                (None, 64, 64, 3)         13671523  \n",
      "_________________________________________________________________\n",
      "model_1 (Model)              (None, 1)                 798593    \n",
      "=================================================================\n",
      "Total params: 14,470,116\n",
      "Trainable params: 13,671,075\n",
      "Non-trainable params: 799,041\n",
      "_________________________________________________________________\n"
     ]
    }
   ],
   "source": [
    "dis.trainable = False\n",
    "gan_input = layers.Input(shape=(latent_dim, ))\n",
    "generated_image = gen(gan_input)\n",
    "gan_output = dis(generated_image)\n",
    "gan = tf.keras.Model(gan_input, gan_output)\n",
    "gan.summary()\n",
    "\n",
    "gan_optimizer = tf.keras.optimizers.RMSprop(lr=0.0005, clipvalue=1.0, decay=1e-8)\n",
    "gan.compile(optimizer=optimizer, loss='binary_crossentropy')"
   ]
  },
  {
   "cell_type": "markdown",
   "metadata": {},
   "source": [
    "# Training"
   ]
  },
  {
   "cell_type": "code",
   "execution_count": null,
   "metadata": {
    "scrolled": false
   },
   "outputs": [
    {
     "name": "stdout",
     "output_type": "stream",
     "text": [
      "0, d_loss: 0.484946, gan_loss: 1.361260]\n"
     ]
    },
    {
     "data": {
      "text/html": [
       "\n",
       "        <img src=\"data:image/jpeg;base64,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\"></img>\n",
       "    "
      ],
      "text/plain": [
       "<IPython.core.display.HTML object>"
      ]
     },
     "metadata": {},
     "output_type": "display_data"
    },
    {
     "name": "stdout",
     "output_type": "stream",
     "text": [
      "1000, d_loss: 0.327843, gan_loss: 3.471214]\n"
     ]
    },
    {
     "data": {
      "text/html": [
       "\n",
       "        <img src=\"data:image/jpeg;base64,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\"></img>\n",
       "    "
      ],
      "text/plain": [
       "<IPython.core.display.HTML object>"
      ]
     },
     "metadata": {},
     "output_type": "display_data"
    },
    {
     "name": "stdout",
     "output_type": "stream",
     "text": [
      "2000, d_loss: 0.289304, gan_loss: 2.777045]\n"
     ]
    },
    {
     "data": {
      "text/html": [
       "\n",
       "        <img src=\"data:image/jpeg;base64,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\"></img>\n",
       "    "
      ],
      "text/plain": [
       "<IPython.core.display.HTML object>"
      ]
     },
     "metadata": {},
     "output_type": "display_data"
    },
    {
     "name": "stdout",
     "output_type": "stream",
     "text": [
      "3000, d_loss: 1.785711, gan_loss: 4.426416]\n"
     ]
    },
    {
     "data": {
      "text/html": [
       "\n",
       "        <img src=\"data:image/jpeg;base64,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\"></img>\n",
       "    "
      ],
      "text/plain": [
       "<IPython.core.display.HTML object>"
      ]
     },
     "metadata": {},
     "output_type": "display_data"
    },
    {
     "name": "stdout",
     "output_type": "stream",
     "text": [
      "4000, d_loss: 0.210971, gan_loss: 3.228911]\n"
     ]
    },
    {
     "data": {
      "text/html": [
       "\n",
       "        <img src=\"data:image/jpeg;base64,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\"></img>\n",
       "    "
      ],
      "text/plain": [
       "<IPython.core.display.HTML object>"
      ]
     },
     "metadata": {},
     "output_type": "display_data"
    },
    {
     "name": "stdout",
     "output_type": "stream",
     "text": [
      "5000, d_loss: 0.401364, gan_loss: 3.281378]\n"
     ]
    },
    {
     "data": {
      "text/html": [
       "\n",
       "        <img src=\"data:image/jpeg;base64,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\"></img>\n",
       "    "
      ],
      "text/plain": [
       "<IPython.core.display.HTML object>"
      ]
     },
     "metadata": {},
     "output_type": "display_data"
    },
    {
     "name": "stdout",
     "output_type": "stream",
     "text": [
      "6000, d_loss: 0.462501, gan_loss: 2.356474]\n"
     ]
    },
    {
     "data": {
      "text/html": [
       "\n",
       "        <img src=\"data:image/jpeg;base64,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\"></img>\n",
       "    "
      ],
      "text/plain": [
       "<IPython.core.display.HTML object>"
      ]
     },
     "metadata": {},
     "output_type": "display_data"
    }
   ],
   "source": [
    "real_labels = np.ones((batch_size, 1))\n",
    "fake_labels = np.zeros((batch_size, 1))\n",
    "\n",
    "for i in range(iterations):\n",
    "    random_indxs = np.random.randint(0, processed_dataset.shape[0], batch_size)\n",
    "    real_images = processed_dataset[random_indxs]\n",
    "\n",
    "    random_vectors = np.random.normal(0, 1, (batch_size, latent_dim))\n",
    "    fake_images = gen.predict(random_vectors)\n",
    "    \n",
    "    all_images = np.concatenate([real_images, fake_images])\n",
    "    all_labels = np.concatenate([real_labels, fake_labels])\n",
    "    all_labels += 0.05 * np.random.random(all_labels.shape)\n",
    "    \n",
    "    d_loss = dis.train_on_batch(all_images, all_labels)\n",
    "\n",
    "    gan_loss = gan.train_on_batch(random_vectors, real_labels)\n",
    "\n",
    "    if i % 1000 == 0:\n",
    "        gan.save_weights('thopeGAN.h5')\n",
    "        print (\"%d, d_loss: %f, gan_loss: %f]\" % (i, d_loss, gan_loss))\n",
    "        sora(fake_images[0:5] * 255, cell_width=80, cell_height=80, items_per_row=5)"
   ]
  },
  {
   "cell_type": "code",
   "execution_count": null,
   "metadata": {},
   "outputs": [],
   "source": []
  }
 ],
 "metadata": {
  "kernelspec": {
   "display_name": "Python 3",
   "language": "python",
   "name": "python3"
  },
  "language_info": {
   "codemirror_mode": {
    "name": "ipython",
    "version": 3
   },
   "file_extension": ".py",
   "mimetype": "text/x-python",
   "name": "python",
   "nbconvert_exporter": "python",
   "pygments_lexer": "ipython3",
   "version": "3.6.7"
  }
 },
 "nbformat": 4,
 "nbformat_minor": 2
}
