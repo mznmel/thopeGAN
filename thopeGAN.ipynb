{
 "cells": [
  {
   "cell_type": "code",
   "execution_count": 1,
   "metadata": {},
   "outputs": [],
   "source": [
    "import numpy as np\n",
    "import tensorflow as tf\n",
    "import tensorflow.keras.layers as layers\n",
    "from sora import sora\n",
    "from skimage.transform import resize\n",
    "from PIL import Image"
   ]
  },
  {
   "cell_type": "markdown",
   "metadata": {},
   "source": [
    "# Load and Process the Dataset"
   ]
  },
  {
   "cell_type": "code",
   "execution_count": 2,
   "metadata": {},
   "outputs": [],
   "source": [
    "dataset = np.load(\"./thope-and-shomakh.npy\")\n",
    "processed_dataset = np.zeros((dataset.shape[0], 64, 64, 3))\n",
    "\n",
    "for i in range(dataset.shape[0]):\n",
    "    img = Image.fromarray(np.uint8(dataset[i]))\n",
    "    img = img.resize((64, 64))\n",
    "    processed_dataset[i] = np.array(img)\n",
    "\n",
    "processed_dataset = processed_dataset / 255.0"
   ]
  },
  {
   "cell_type": "markdown",
   "metadata": {},
   "source": [
    "# Building the GAN Model"
   ]
  },
  {
   "cell_type": "markdown",
   "metadata": {},
   "source": [
    "## Config"
   ]
  },
  {
   "cell_type": "code",
   "execution_count": 3,
   "metadata": {},
   "outputs": [],
   "source": [
    "latent_dim = 100\n",
    "iterations = 1000000\n",
    "batch_size = 64\n",
    "\n",
    "image_shape = processed_dataset.shape[1:]"
   ]
  },
  {
   "cell_type": "markdown",
   "metadata": {},
   "source": [
    "## Generator"
   ]
  },
  {
   "cell_type": "code",
   "execution_count": 4,
   "metadata": {
    "scrolled": false
   },
   "outputs": [
    {
     "name": "stdout",
     "output_type": "stream",
     "text": [
      "_________________________________________________________________\n",
      "Layer (type)                 Output Shape              Param #   \n",
      "=================================================================\n",
      "input_1 (InputLayer)         (None, 100)               0         \n",
      "_________________________________________________________________\n",
      "dense (Dense)                (None, 131072)            13238272  \n",
      "_________________________________________________________________\n",
      "leaky_re_lu (LeakyReLU)      (None, 131072)            0         \n",
      "_________________________________________________________________\n",
      "reshape (Reshape)            (None, 32, 32, 128)       0         \n",
      "_________________________________________________________________\n",
      "up_sampling2d (UpSampling2D) (None, 64, 64, 128)       0         \n",
      "_________________________________________________________________\n",
      "conv2d (Conv2D)              (None, 64, 64, 128)       262272    \n",
      "_________________________________________________________________\n",
      "batch_normalization (BatchNo (None, 64, 64, 128)       512       \n",
      "_________________________________________________________________\n",
      "leaky_re_lu_1 (LeakyReLU)    (None, 64, 64, 128)       0         \n",
      "_________________________________________________________________\n",
      "conv2d_1 (Conv2D)            (None, 64, 64, 64)        131136    \n",
      "_________________________________________________________________\n",
      "batch_normalization_1 (Batch (None, 64, 64, 64)        256       \n",
      "_________________________________________________________________\n",
      "leaky_re_lu_2 (LeakyReLU)    (None, 64, 64, 64)        0         \n",
      "_________________________________________________________________\n",
      "conv2d_2 (Conv2D)            (None, 64, 64, 32)        32800     \n",
      "_________________________________________________________________\n",
      "batch_normalization_2 (Batch (None, 64, 64, 32)        128       \n",
      "_________________________________________________________________\n",
      "leaky_re_lu_3 (LeakyReLU)    (None, 64, 64, 32)        0         \n",
      "_________________________________________________________________\n",
      "conv2d_3 (Conv2D)            (None, 64, 64, 3)         6147      \n",
      "_________________________________________________________________\n",
      "activation (Activation)      (None, 64, 64, 3)         0         \n",
      "=================================================================\n",
      "Total params: 13,671,523\n",
      "Trainable params: 13,671,075\n",
      "Non-trainable params: 448\n",
      "_________________________________________________________________\n"
     ]
    }
   ],
   "source": [
    "gen_input = layers.Input(shape=(latent_dim, ))\n",
    "gen = layers.Dense(32 * 32 * 128)(gen_input)\n",
    "gen = layers.LeakyReLU()(gen)\n",
    "gen = layers.Reshape((32, 32, 128))(gen)\n",
    "gen = layers.UpSampling2D()(gen)\n",
    "gen = layers.Conv2D(128, 4, padding='same')(gen)\n",
    "gen = layers.BatchNormalization(momentum=0.8)(gen)\n",
    "gen = layers.LeakyReLU()(gen)\n",
    "gen = layers.Conv2D(64, 4, padding='same')(gen)\n",
    "gen = layers.BatchNormalization(momentum=0.8)(gen)\n",
    "gen = layers.LeakyReLU()(gen)\n",
    "gen = layers.Conv2D(32, 4, padding='same')(gen)\n",
    "gen = layers.BatchNormalization(momentum=0.8)(gen)\n",
    "gen = layers.LeakyReLU()(gen)\n",
    "gen = layers.Conv2D(3, 8, padding='same')(gen)\n",
    "gen = layers.Activation('tanh')(gen)\n",
    "gen = tf.keras.Model(gen_input, gen)\n",
    "gen.summary()"
   ]
  },
  {
   "cell_type": "markdown",
   "metadata": {},
   "source": [
    "## Discriminator"
   ]
  },
  {
   "cell_type": "code",
   "execution_count": 5,
   "metadata": {},
   "outputs": [
    {
     "name": "stdout",
     "output_type": "stream",
     "text": [
      "_________________________________________________________________\n",
      "Layer (type)                 Output Shape              Param #   \n",
      "=================================================================\n",
      "input_2 (InputLayer)         (None, 64, 64, 3)         0         \n",
      "_________________________________________________________________\n",
      "conv2d_4 (Conv2D)            (None, 64, 64, 128)       3584      \n",
      "_________________________________________________________________\n",
      "leaky_re_lu_4 (LeakyReLU)    (None, 64, 64, 128)       0         \n",
      "_________________________________________________________________\n",
      "conv2d_5 (Conv2D)            (None, 32, 32, 128)       262272    \n",
      "_________________________________________________________________\n",
      "leaky_re_lu_5 (LeakyReLU)    (None, 32, 32, 128)       0         \n",
      "_________________________________________________________________\n",
      "conv2d_6 (Conv2D)            (None, 16, 16, 128)       262272    \n",
      "_________________________________________________________________\n",
      "leaky_re_lu_6 (LeakyReLU)    (None, 16, 16, 128)       0         \n",
      "_________________________________________________________________\n",
      "conv2d_7 (Conv2D)            (None, 8, 8, 128)         262272    \n",
      "_________________________________________________________________\n",
      "leaky_re_lu_7 (LeakyReLU)    (None, 8, 8, 128)         0         \n",
      "_________________________________________________________________\n",
      "flatten (Flatten)            (None, 8192)              0         \n",
      "_________________________________________________________________\n",
      "dropout (Dropout)            (None, 8192)              0         \n",
      "_________________________________________________________________\n",
      "dense_1 (Dense)              (None, 1)                 8193      \n",
      "=================================================================\n",
      "Total params: 798,593\n",
      "Trainable params: 798,593\n",
      "Non-trainable params: 0\n",
      "_________________________________________________________________\n"
     ]
    }
   ],
   "source": [
    "dis_input = layers.Input(shape=image_shape)\n",
    "dis = layers.Conv2D(128, kernel_size=3, padding='same')(dis_input)\n",
    "dis = layers.LeakyReLU()(dis)\n",
    "dis = layers.Conv2D(128, kernel_size=4, strides=2, padding='same')(dis)\n",
    "dis = layers.LeakyReLU()(dis)\n",
    "dis = layers.Conv2D(128, kernel_size=4, strides=2, padding='same')(dis)\n",
    "dis = layers.LeakyReLU()(dis)\n",
    "dis = layers.Conv2D(128, kernel_size=4, strides=2, padding='same')(dis)\n",
    "dis = layers.LeakyReLU()(dis)\n",
    "dis = layers.Flatten()(dis)\n",
    "dis = layers.Dropout(0.25)(dis)\n",
    "dis = layers.Dense(1, activation='sigmoid')(dis)\n",
    "dis = tf.keras.Model(dis_input, dis)\n",
    "dis.summary()\n",
    "\n",
    "optimizer = tf.keras.optimizers.RMSprop(lr=0.0005, clipvalue=1.0, decay=1e-8)\n",
    "dis.compile(optimizer, loss='binary_crossentropy')"
   ]
  },
  {
   "cell_type": "markdown",
   "metadata": {},
   "source": [
    "## GAN"
   ]
  },
  {
   "cell_type": "code",
   "execution_count": 6,
   "metadata": {},
   "outputs": [
    {
     "name": "stdout",
     "output_type": "stream",
     "text": [
      "_________________________________________________________________\n",
      "Layer (type)                 Output Shape              Param #   \n",
      "=================================================================\n",
      "input_3 (InputLayer)         (None, 100)               0         \n",
      "_________________________________________________________________\n",
      "model (Model)                (None, 64, 64, 3)         13671523  \n",
      "_________________________________________________________________\n",
      "model_1 (Model)              (None, 1)                 798593    \n",
      "=================================================================\n",
      "Total params: 14,470,116\n",
      "Trainable params: 13,671,075\n",
      "Non-trainable params: 799,041\n",
      "_________________________________________________________________\n"
     ]
    }
   ],
   "source": [
    "dis.trainable = False\n",
    "gan_input = layers.Input(shape=(latent_dim, ))\n",
    "generated_image = gen(gan_input)\n",
    "gan_output = dis(generated_image)\n",
    "gan = tf.keras.Model(gan_input, gan_output)\n",
    "gan.summary()\n",
    "\n",
    "gan_optimizer = tf.keras.optimizers.RMSprop(lr=0.0005, clipvalue=1.0, decay=1e-8)\n",
    "gan.compile(optimizer=optimizer, loss='binary_crossentropy')"
   ]
  },
  {
   "cell_type": "markdown",
   "metadata": {},
   "source": [
    "# Training"
   ]
  },
  {
   "cell_type": "code",
   "execution_count": 7,
   "metadata": {
    "scrolled": false
   },
   "outputs": [
    {
     "name": "stdout",
     "output_type": "stream",
     "text": [
      "WARNING:tensorflow:Discrepancy between trainable weights and collected trainable weights, did you set `model.trainable` without calling `model.compile` after ?\n",
      "0, d_loss: 0.679314, gan_loss: 0.437173]\n"
     ]
    },
    {
     "data": {
      "text/html": [
       "\n",
       "        <img src=\"data:image/jpeg;base64,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\"></img>\n",
       "    "
      ],
      "text/plain": [
       "<IPython.core.display.HTML object>"
      ]
     },
     "metadata": {},
     "output_type": "display_data"
    },
    {
     "name": "stdout",
     "output_type": "stream",
     "text": [
      "1000, d_loss: 0.601295, gan_loss: 0.983709]\n"
     ]
    },
    {
     "data": {
      "text/html": [
       "\n",
       "        <img src=\"data:image/jpeg;base64,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\"></img>\n",
       "    "
      ],
      "text/plain": [
       "<IPython.core.display.HTML object>"
      ]
     },
     "metadata": {},
     "output_type": "display_data"
    },
    {
     "name": "stdout",
     "output_type": "stream",
     "text": [
      "2000, d_loss: 0.563294, gan_loss: 1.314025]\n"
     ]
    },
    {
     "data": {
      "text/html": [
       "\n",
       "        <img src=\"data:image/jpeg;base64,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\"></img>\n",
       "    "
      ],
      "text/plain": [
       "<IPython.core.display.HTML object>"
      ]
     },
     "metadata": {},
     "output_type": "display_data"
    },
    {
     "name": "stdout",
     "output_type": "stream",
     "text": [
      "3000, d_loss: 0.515362, gan_loss: 0.934114]\n"
     ]
    },
    {
     "data": {
      "text/html": [
       "\n",
       "        <img src=\"data:image/jpeg;base64,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\"></img>\n",
       "    "
      ],
      "text/plain": [
       "<IPython.core.display.HTML object>"
      ]
     },
     "metadata": {},
     "output_type": "display_data"
    },
    {
     "name": "stdout",
     "output_type": "stream",
     "text": [
      "4000, d_loss: 0.391569, gan_loss: 2.550054]\n"
     ]
    },
    {
     "data": {
      "text/html": [
       "\n",
       "        <img src=\"data:image/jpeg;base64,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\"></img>\n",
       "    "
      ],
      "text/plain": [
       "<IPython.core.display.HTML object>"
      ]
     },
     "metadata": {},
     "output_type": "display_data"
    },
    {
     "name": "stdout",
     "output_type": "stream",
     "text": [
      "5000, d_loss: 0.281936, gan_loss: 1.827824]\n"
     ]
    },
    {
     "data": {
      "text/html": [
       "\n",
       "        <img src=\"data:image/jpeg;base64,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\"></img>\n",
       "    "
      ],
      "text/plain": [
       "<IPython.core.display.HTML object>"
      ]
     },
     "metadata": {},
     "output_type": "display_data"
    },
    {
     "ename": "KeyboardInterrupt",
     "evalue": "",
     "output_type": "error",
     "traceback": [
      "\u001b[1;31m---------------------------------------------------------------------------\u001b[0m",
      "\u001b[1;31mKeyboardInterrupt\u001b[0m                         Traceback (most recent call last)",
      "\u001b[1;32m<ipython-input-7-d0eab8dc4e54>\u001b[0m in \u001b[0;36m<module>\u001b[1;34m\u001b[0m\n\u001b[0;32m      9\u001b[0m     \u001b[0mfake_images\u001b[0m \u001b[1;33m=\u001b[0m \u001b[0mgen\u001b[0m\u001b[1;33m.\u001b[0m\u001b[0mpredict\u001b[0m\u001b[1;33m(\u001b[0m\u001b[0mrandom_vectors\u001b[0m\u001b[1;33m)\u001b[0m\u001b[1;33m\u001b[0m\u001b[1;33m\u001b[0m\u001b[0m\n\u001b[0;32m     10\u001b[0m \u001b[1;33m\u001b[0m\u001b[0m\n\u001b[1;32m---> 11\u001b[1;33m     \u001b[0mall_images\u001b[0m \u001b[1;33m=\u001b[0m \u001b[0mnp\u001b[0m\u001b[1;33m.\u001b[0m\u001b[0mconcatenate\u001b[0m\u001b[1;33m(\u001b[0m\u001b[1;33m[\u001b[0m\u001b[0mreal_images\u001b[0m\u001b[1;33m,\u001b[0m \u001b[0mfake_images\u001b[0m\u001b[1;33m]\u001b[0m\u001b[1;33m)\u001b[0m\u001b[1;33m\u001b[0m\u001b[1;33m\u001b[0m\u001b[0m\n\u001b[0m\u001b[0;32m     12\u001b[0m     \u001b[0mall_labels\u001b[0m \u001b[1;33m=\u001b[0m \u001b[0mnp\u001b[0m\u001b[1;33m.\u001b[0m\u001b[0mconcatenate\u001b[0m\u001b[1;33m(\u001b[0m\u001b[1;33m[\u001b[0m\u001b[0mreal_labels\u001b[0m\u001b[1;33m,\u001b[0m \u001b[0mfake_labels\u001b[0m\u001b[1;33m]\u001b[0m\u001b[1;33m)\u001b[0m\u001b[1;33m\u001b[0m\u001b[1;33m\u001b[0m\u001b[0m\n\u001b[0;32m     13\u001b[0m     \u001b[0mall_labels\u001b[0m \u001b[1;33m+=\u001b[0m \u001b[1;36m0.05\u001b[0m \u001b[1;33m*\u001b[0m \u001b[0mnp\u001b[0m\u001b[1;33m.\u001b[0m\u001b[0mrandom\u001b[0m\u001b[1;33m.\u001b[0m\u001b[0mrandom\u001b[0m\u001b[1;33m(\u001b[0m\u001b[0mall_labels\u001b[0m\u001b[1;33m.\u001b[0m\u001b[0mshape\u001b[0m\u001b[1;33m)\u001b[0m\u001b[1;33m\u001b[0m\u001b[1;33m\u001b[0m\u001b[0m\n",
      "\u001b[1;31mKeyboardInterrupt\u001b[0m: "
     ]
    }
   ],
   "source": [
    "real_labels = np.ones((batch_size, 1))\n",
    "fake_labels = np.zeros((batch_size, 1))\n",
    "\n",
    "for i in range(iterations):\n",
    "    random_indxs = np.random.randint(0, processed_dataset.shape[0], batch_size)\n",
    "    real_images = processed_dataset[random_indxs]\n",
    "\n",
    "    random_vectors = np.random.normal(0, 1, (batch_size, latent_dim))\n",
    "    fake_images = gen.predict(random_vectors)\n",
    "    \n",
    "    all_images = np.concatenate([real_images, fake_images])\n",
    "    all_labels = np.concatenate([real_labels, fake_labels])\n",
    "    all_labels += 0.05 * np.random.random(all_labels.shape)\n",
    "    \n",
    "    d_loss = dis.train_on_batch(all_images, all_labels)\n",
    "\n",
    "    gan_loss = gan.train_on_batch(random_vectors, real_labels)\n",
    "\n",
    "    if i % 1000 == 0:\n",
    "        gan.save_weights('thopeGAN.h5')\n",
    "        print (\"%d, d_loss: %f, gan_loss: %f]\" % (i, d_loss, gan_loss))\n",
    "        sora(fake_images[0:5] * 255, cell_width=80, cell_height=80, items_per_row=5)"
   ]
  },
  {
   "cell_type": "code",
   "execution_count": null,
   "metadata": {},
   "outputs": [],
   "source": []
  }
 ],
 "metadata": {
  "kernelspec": {
   "display_name": "Python 3",
   "language": "python",
   "name": "python3"
  },
  "language_info": {
   "codemirror_mode": {
    "name": "ipython",
    "version": 3
   },
   "file_extension": ".py",
   "mimetype": "text/x-python",
   "name": "python",
   "nbconvert_exporter": "python",
   "pygments_lexer": "ipython3",
   "version": "3.6.7"
  }
 },
 "nbformat": 4,
 "nbformat_minor": 2
}
